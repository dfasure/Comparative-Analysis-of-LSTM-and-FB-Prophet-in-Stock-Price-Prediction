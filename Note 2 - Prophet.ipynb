{
 "cells": [
  {
   "cell_type": "markdown",
   "id": "cff4c43f",
   "metadata": {},
   "source": [
    "# Comparative Analysis of LSTM and Prophet Models for Stock Price Prediction\n",
    "## Note 2\n",
    "\n",
    "This is a the second part of the notebook, containing the Prophet model of the analysis."
   ]
  },
  {
   "cell_type": "code",
   "execution_count": 1,
   "id": "b74ddf0e",
   "metadata": {
    "scrolled": false
   },
   "outputs": [
    {
     "name": "stderr",
     "output_type": "stream",
     "text": [
      "C:\\Users\\Samuel Chika\\anaconda3\\lib\\site-packages\\scipy\\__init__.py:146: UserWarning: A NumPy version >=1.16.5 and <1.23.0 is required for this version of SciPy (detected version 1.23.4\n",
      "  warnings.warn(f\"A NumPy version >={np_minversion} and <{np_maxversion}\"\n"
     ]
    }
   ],
   "source": [
    "# evaluate prophet time series forecasting model on hold out dataset\n",
    "\n",
    "from pandas import read_csv\n",
    "from pandas import to_datetime\n",
    "from pandas import DataFrame\n",
    "import datetime\n",
    "import yfinance as yf\n",
    "from prophet import Prophet\n",
    "from sklearn.metrics import mean_absolute_error\n",
    "from matplotlib import pyplot\n",
    "import matplotlib.pyplot as plt\n",
    "from sklearn.metrics import mean_squared_error, mean_absolute_error, mean_squared_log_error"
   ]
  },
  {
   "cell_type": "code",
   "execution_count": 3,
   "id": "0bc9fa70",
   "metadata": {},
   "outputs": [],
   "source": [
    "# Set deration of data\n",
    "\n",
    "s_date = datetime.date(2000,1,1)\n",
    "e_date = datetime.date(2022,10,31)"
   ]
  },
  {
   "cell_type": "code",
   "execution_count": 4,
   "id": "abe7dff3",
   "metadata": {},
   "outputs": [],
   "source": [
    "# Download the stock data for META from Yahoo finance\n",
    "\n",
    "p_data = yf.download('AAPL', start = s_date, end = e_date, progress = False)"
   ]
  },
  {
   "cell_type": "code",
   "execution_count": 5,
   "id": "b90450ea",
   "metadata": {},
   "outputs": [],
   "source": [
    "# Set the \"Date\" column as the index of the dataset\n",
    "\n",
    "p_data[\"Date\"] = p_data.index"
   ]
  },
  {
   "cell_type": "code",
   "execution_count": 6,
   "id": "cbc7e6a6",
   "metadata": {},
   "outputs": [
    {
     "data": {
      "text/html": [
       "<div>\n",
       "<style scoped>\n",
       "    .dataframe tbody tr th:only-of-type {\n",
       "        vertical-align: middle;\n",
       "    }\n",
       "\n",
       "    .dataframe tbody tr th {\n",
       "        vertical-align: top;\n",
       "    }\n",
       "\n",
       "    .dataframe thead th {\n",
       "        text-align: right;\n",
       "    }\n",
       "</style>\n",
       "<table border=\"1\" class=\"dataframe\">\n",
       "  <thead>\n",
       "    <tr style=\"text-align: right;\">\n",
       "      <th></th>\n",
       "      <th>ds</th>\n",
       "      <th>y</th>\n",
       "    </tr>\n",
       "    <tr>\n",
       "      <th>Date</th>\n",
       "      <th></th>\n",
       "      <th></th>\n",
       "    </tr>\n",
       "  </thead>\n",
       "  <tbody>\n",
       "    <tr>\n",
       "      <th>2000-01-03</th>\n",
       "      <td>2000-01-03</td>\n",
       "      <td>0.999442</td>\n",
       "    </tr>\n",
       "    <tr>\n",
       "      <th>2000-01-04</th>\n",
       "      <td>2000-01-04</td>\n",
       "      <td>0.915179</td>\n",
       "    </tr>\n",
       "  </tbody>\n",
       "</table>\n",
       "</div>"
      ],
      "text/plain": [
       "                   ds         y\n",
       "Date                           \n",
       "2000-01-03 2000-01-03  0.999442\n",
       "2000-01-04 2000-01-04  0.915179"
      ]
     },
     "execution_count": 6,
     "metadata": {},
     "output_type": "execute_result"
    }
   ],
   "source": [
    "# Remane the columns to the format acceptable to Prophet\n",
    "\n",
    "ph_data = p_data[[\"Date\",\"Close\"]] \n",
    "ph_data = ph_data.rename(columns = {\"Date\":\"ds\",\"Close\":\"y\"})\n",
    "ph_data.head(2)"
   ]
  },
  {
   "cell_type": "code",
   "execution_count": 7,
   "id": "249a8b2d",
   "metadata": {},
   "outputs": [
    {
     "name": "stdout",
     "output_type": "stream",
     "text": [
      "<class 'pandas.core.frame.DataFrame'>\n",
      "DatetimeIndex: 5744 entries, 2000-01-03 to 2022-10-28\n",
      "Data columns (total 2 columns):\n",
      " #   Column  Non-Null Count  Dtype         \n",
      "---  ------  --------------  -----         \n",
      " 0   ds      5744 non-null   datetime64[ns]\n",
      " 1   y       5744 non-null   float64       \n",
      "dtypes: datetime64[ns](1), float64(1)\n",
      "memory usage: 134.6 KB\n"
     ]
    }
   ],
   "source": [
    "ph_data.info()"
   ]
  },
  {
   "cell_type": "code",
   "execution_count": 8,
   "id": "f5d776e9",
   "metadata": {},
   "outputs": [],
   "source": [
    "# Create a test dataset\n",
    "\n",
    "ph_test = ph_data[-1149:]"
   ]
  },
  {
   "cell_type": "code",
   "execution_count": 9,
   "id": "3da8438a",
   "metadata": {},
   "outputs": [
    {
     "data": {
      "text/html": [
       "<div>\n",
       "<style scoped>\n",
       "    .dataframe tbody tr th:only-of-type {\n",
       "        vertical-align: middle;\n",
       "    }\n",
       "\n",
       "    .dataframe tbody tr th {\n",
       "        vertical-align: top;\n",
       "    }\n",
       "\n",
       "    .dataframe thead th {\n",
       "        text-align: right;\n",
       "    }\n",
       "</style>\n",
       "<table border=\"1\" class=\"dataframe\">\n",
       "  <thead>\n",
       "    <tr style=\"text-align: right;\">\n",
       "      <th></th>\n",
       "      <th>ds</th>\n",
       "      <th>y</th>\n",
       "    </tr>\n",
       "    <tr>\n",
       "      <th>Date</th>\n",
       "      <th></th>\n",
       "      <th></th>\n",
       "    </tr>\n",
       "  </thead>\n",
       "  <tbody>\n",
       "    <tr>\n",
       "      <th>2018-04-10</th>\n",
       "      <td>2018-04-10</td>\n",
       "      <td>43.312500</td>\n",
       "    </tr>\n",
       "    <tr>\n",
       "      <th>2018-04-11</th>\n",
       "      <td>2018-04-11</td>\n",
       "      <td>43.110001</td>\n",
       "    </tr>\n",
       "    <tr>\n",
       "      <th>2018-04-12</th>\n",
       "      <td>2018-04-12</td>\n",
       "      <td>43.535000</td>\n",
       "    </tr>\n",
       "    <tr>\n",
       "      <th>2018-04-13</th>\n",
       "      <td>2018-04-13</td>\n",
       "      <td>43.682499</td>\n",
       "    </tr>\n",
       "    <tr>\n",
       "      <th>2018-04-16</th>\n",
       "      <td>2018-04-16</td>\n",
       "      <td>43.955002</td>\n",
       "    </tr>\n",
       "  </tbody>\n",
       "</table>\n",
       "</div>"
      ],
      "text/plain": [
       "                   ds          y\n",
       "Date                            \n",
       "2018-04-10 2018-04-10  43.312500\n",
       "2018-04-11 2018-04-11  43.110001\n",
       "2018-04-12 2018-04-12  43.535000\n",
       "2018-04-13 2018-04-13  43.682499\n",
       "2018-04-16 2018-04-16  43.955002"
      ]
     },
     "execution_count": 9,
     "metadata": {},
     "output_type": "execute_result"
    }
   ],
   "source": [
    "ph_test.head()"
   ]
  },
  {
   "cell_type": "code",
   "execution_count": 10,
   "id": "90e35296",
   "metadata": {},
   "outputs": [
    {
     "name": "stdout",
     "output_type": "stream",
     "text": [
      "                   ds          y\n",
      "Date                            \n",
      "2018-04-03 2018-04-03  42.097500\n",
      "2018-04-04 2018-04-04  42.902500\n",
      "2018-04-05 2018-04-05  43.200001\n",
      "2018-04-06 2018-04-06  42.095001\n",
      "2018-04-09 2018-04-09  42.512501\n"
     ]
    }
   ],
   "source": [
    "# create train dataset, remove last 526 days\n",
    "\n",
    "ph_train = ph_data.drop(ph_data.index[-1149:])\n",
    "print(ph_train.tail())"
   ]
  },
  {
   "cell_type": "code",
   "execution_count": 11,
   "id": "4eed0474",
   "metadata": {},
   "outputs": [],
   "source": [
    "# define the model\n",
    "\n",
    "p_model = Prophet(growth = 'linear', daily_seasonality = True, weekly_seasonality = True, yearly_seasonality = True,\n",
    "                 changepoint_prior_scale=5, seasonality_prior_scale=5)"
   ]
  },
  {
   "cell_type": "code",
   "execution_count": 12,
   "id": "b5dfef76",
   "metadata": {},
   "outputs": [],
   "source": [
    "# Define future date for prediction\n",
    "\n",
    "f_date = ph_data.index[-1149:]"
   ]
  },
  {
   "cell_type": "code",
   "execution_count": 13,
   "id": "4e1367a8",
   "metadata": {},
   "outputs": [],
   "source": [
    "# Create a dataframe defined by the future dates\n",
    "\n",
    "future = DataFrame(f_date)\n",
    "future.columns = ['ds']\n",
    "future['ds'] = to_datetime(future['ds'])"
   ]
  },
  {
   "cell_type": "code",
   "execution_count": 14,
   "id": "2542f268",
   "metadata": {},
   "outputs": [
    {
     "name": "stderr",
     "output_type": "stream",
     "text": [
      "00:19:53 - cmdstanpy - INFO - Chain [1] start processing\n",
      "00:20:00 - cmdstanpy - INFO - Chain [1] done processing\n"
     ]
    },
    {
     "data": {
      "text/plain": [
       "<prophet.forecaster.Prophet at 0x21b79431d30>"
      ]
     },
     "execution_count": 14,
     "metadata": {},
     "output_type": "execute_result"
    }
   ],
   "source": [
    "# fit the model\n",
    "\n",
    "p_model.fit(ph_train)"
   ]
  },
  {
   "cell_type": "code",
   "execution_count": 15,
   "id": "5e5f9648",
   "metadata": {},
   "outputs": [],
   "source": [
    "# use the model to make a forecast\n",
    "\n",
    "forecast = p_model.predict(future)"
   ]
  },
  {
   "cell_type": "code",
   "execution_count": 16,
   "id": "b2be17ad",
   "metadata": {
    "scrolled": true
   },
   "outputs": [
    {
     "data": {
      "text/html": [
       "<div>\n",
       "<style scoped>\n",
       "    .dataframe tbody tr th:only-of-type {\n",
       "        vertical-align: middle;\n",
       "    }\n",
       "\n",
       "    .dataframe tbody tr th {\n",
       "        vertical-align: top;\n",
       "    }\n",
       "\n",
       "    .dataframe thead th {\n",
       "        text-align: right;\n",
       "    }\n",
       "</style>\n",
       "<table border=\"1\" class=\"dataframe\">\n",
       "  <thead>\n",
       "    <tr style=\"text-align: right;\">\n",
       "      <th></th>\n",
       "      <th>ds</th>\n",
       "      <th>yhat</th>\n",
       "      <th>yhat_lower</th>\n",
       "      <th>yhat_upper</th>\n",
       "    </tr>\n",
       "  </thead>\n",
       "  <tbody>\n",
       "    <tr>\n",
       "      <th>1144</th>\n",
       "      <td>2022-10-24</td>\n",
       "      <td>58.971030</td>\n",
       "      <td>17.123541</td>\n",
       "      <td>104.710631</td>\n",
       "    </tr>\n",
       "    <tr>\n",
       "      <th>1145</th>\n",
       "      <td>2022-10-25</td>\n",
       "      <td>58.988166</td>\n",
       "      <td>16.163356</td>\n",
       "      <td>104.798076</td>\n",
       "    </tr>\n",
       "    <tr>\n",
       "      <th>1146</th>\n",
       "      <td>2022-10-26</td>\n",
       "      <td>59.015124</td>\n",
       "      <td>17.062304</td>\n",
       "      <td>105.260414</td>\n",
       "    </tr>\n",
       "    <tr>\n",
       "      <th>1147</th>\n",
       "      <td>2022-10-27</td>\n",
       "      <td>59.022157</td>\n",
       "      <td>16.625748</td>\n",
       "      <td>104.288183</td>\n",
       "    </tr>\n",
       "    <tr>\n",
       "      <th>1148</th>\n",
       "      <td>2022-10-28</td>\n",
       "      <td>59.031954</td>\n",
       "      <td>16.422696</td>\n",
       "      <td>106.062869</td>\n",
       "    </tr>\n",
       "  </tbody>\n",
       "</table>\n",
       "</div>"
      ],
      "text/plain": [
       "             ds       yhat  yhat_lower  yhat_upper\n",
       "1144 2022-10-24  58.971030   17.123541  104.710631\n",
       "1145 2022-10-25  58.988166   16.163356  104.798076\n",
       "1146 2022-10-26  59.015124   17.062304  105.260414\n",
       "1147 2022-10-27  59.022157   16.625748  104.288183\n",
       "1148 2022-10-28  59.031954   16.422696  106.062869"
      ]
     },
     "execution_count": 16,
     "metadata": {},
     "output_type": "execute_result"
    }
   ],
   "source": [
    "forecast[['ds', 'yhat', 'yhat_lower', 'yhat_upper']].tail()"
   ]
  },
  {
   "cell_type": "code",
   "execution_count": 17,
   "id": "3a322562",
   "metadata": {
    "scrolled": true
   },
   "outputs": [
    {
     "data": {
      "text/html": [
       "<div>\n",
       "<style scoped>\n",
       "    .dataframe tbody tr th:only-of-type {\n",
       "        vertical-align: middle;\n",
       "    }\n",
       "\n",
       "    .dataframe tbody tr th {\n",
       "        vertical-align: top;\n",
       "    }\n",
       "\n",
       "    .dataframe thead th {\n",
       "        text-align: right;\n",
       "    }\n",
       "</style>\n",
       "<table border=\"1\" class=\"dataframe\">\n",
       "  <thead>\n",
       "    <tr style=\"text-align: right;\">\n",
       "      <th></th>\n",
       "      <th>ds</th>\n",
       "      <th>yhat</th>\n",
       "      <th>yhat_lower</th>\n",
       "      <th>yhat_upper</th>\n",
       "    </tr>\n",
       "  </thead>\n",
       "  <tbody>\n",
       "    <tr>\n",
       "      <th>1144</th>\n",
       "      <td>2022-10-24</td>\n",
       "      <td>58.971030</td>\n",
       "      <td>17.123541</td>\n",
       "      <td>104.710631</td>\n",
       "    </tr>\n",
       "    <tr>\n",
       "      <th>1145</th>\n",
       "      <td>2022-10-25</td>\n",
       "      <td>58.988166</td>\n",
       "      <td>16.163356</td>\n",
       "      <td>104.798076</td>\n",
       "    </tr>\n",
       "    <tr>\n",
       "      <th>1146</th>\n",
       "      <td>2022-10-26</td>\n",
       "      <td>59.015124</td>\n",
       "      <td>17.062304</td>\n",
       "      <td>105.260414</td>\n",
       "    </tr>\n",
       "    <tr>\n",
       "      <th>1147</th>\n",
       "      <td>2022-10-27</td>\n",
       "      <td>59.022157</td>\n",
       "      <td>16.625748</td>\n",
       "      <td>104.288183</td>\n",
       "    </tr>\n",
       "    <tr>\n",
       "      <th>1148</th>\n",
       "      <td>2022-10-28</td>\n",
       "      <td>59.031954</td>\n",
       "      <td>16.422696</td>\n",
       "      <td>106.062869</td>\n",
       "    </tr>\n",
       "  </tbody>\n",
       "</table>\n",
       "</div>"
      ],
      "text/plain": [
       "             ds       yhat  yhat_lower  yhat_upper\n",
       "1144 2022-10-24  58.971030   17.123541  104.710631\n",
       "1145 2022-10-25  58.988166   16.163356  104.798076\n",
       "1146 2022-10-26  59.015124   17.062304  105.260414\n",
       "1147 2022-10-27  59.022157   16.625748  104.288183\n",
       "1148 2022-10-28  59.031954   16.422696  106.062869"
      ]
     },
     "execution_count": 17,
     "metadata": {},
     "output_type": "execute_result"
    }
   ],
   "source": [
    "# Insoect the forecasted data\n",
    "\n",
    "fs_price = forecast[['ds', 'yhat', 'yhat_lower', 'yhat_upper']]\n",
    "fs_price.tail()"
   ]
  },
  {
   "cell_type": "code",
   "execution_count": 18,
   "id": "2ba10262",
   "metadata": {},
   "outputs": [
    {
     "data": {
      "text/html": [
       "<div>\n",
       "<style scoped>\n",
       "    .dataframe tbody tr th:only-of-type {\n",
       "        vertical-align: middle;\n",
       "    }\n",
       "\n",
       "    .dataframe tbody tr th {\n",
       "        vertical-align: top;\n",
       "    }\n",
       "\n",
       "    .dataframe thead th {\n",
       "        text-align: right;\n",
       "    }\n",
       "</style>\n",
       "<table border=\"1\" class=\"dataframe\">\n",
       "  <thead>\n",
       "    <tr style=\"text-align: right;\">\n",
       "      <th></th>\n",
       "      <th>ds</th>\n",
       "      <th>y</th>\n",
       "    </tr>\n",
       "    <tr>\n",
       "      <th>Date</th>\n",
       "      <th></th>\n",
       "      <th></th>\n",
       "    </tr>\n",
       "  </thead>\n",
       "  <tbody>\n",
       "    <tr>\n",
       "      <th>2022-10-24</th>\n",
       "      <td>2022-10-24</td>\n",
       "      <td>149.449997</td>\n",
       "    </tr>\n",
       "    <tr>\n",
       "      <th>2022-10-25</th>\n",
       "      <td>2022-10-25</td>\n",
       "      <td>152.339996</td>\n",
       "    </tr>\n",
       "    <tr>\n",
       "      <th>2022-10-26</th>\n",
       "      <td>2022-10-26</td>\n",
       "      <td>149.350006</td>\n",
       "    </tr>\n",
       "    <tr>\n",
       "      <th>2022-10-27</th>\n",
       "      <td>2022-10-27</td>\n",
       "      <td>144.800003</td>\n",
       "    </tr>\n",
       "    <tr>\n",
       "      <th>2022-10-28</th>\n",
       "      <td>2022-10-28</td>\n",
       "      <td>155.740005</td>\n",
       "    </tr>\n",
       "  </tbody>\n",
       "</table>\n",
       "</div>"
      ],
      "text/plain": [
       "                   ds           y\n",
       "Date                             \n",
       "2022-10-24 2022-10-24  149.449997\n",
       "2022-10-25 2022-10-25  152.339996\n",
       "2022-10-26 2022-10-26  149.350006\n",
       "2022-10-27 2022-10-27  144.800003\n",
       "2022-10-28 2022-10-28  155.740005"
      ]
     },
     "execution_count": 18,
     "metadata": {},
     "output_type": "execute_result"
    }
   ],
   "source": [
    "# Inspect the data\n",
    "\n",
    "ph_data.tail()"
   ]
  },
  {
   "cell_type": "code",
   "execution_count": 19,
   "id": "2fda0b65",
   "metadata": {
    "scrolled": false
   },
   "outputs": [
    {
     "data": {
      "image/png": "[encoded data removed]",
      "text/plain": [
       "<Figure size 720x432 with 1 Axes>"
      ]
     },
     "metadata": {},
     "output_type": "display_data"
    }
   ],
   "source": [
    "p_model.plot(forecast)\n",
    "plt.title(\"Prediction of Apple Stock Price\")\n",
    "plt.xlabel(\"Date\")\n",
    "plt.ylabel(\"Closing Stock Price\")\n",
    "plt.show()"
   ]
  },
  {
   "cell_type": "code",
   "execution_count": 20,
   "id": "ba091c7d",
   "metadata": {},
   "outputs": [],
   "source": [
    "# Define the true and predicted values for calculating the errors.\n",
    "\n",
    "py_true = ph_test['y'][-1149:]\n",
    "py_pred = forecast['yhat'].values"
   ]
  },
  {
   "cell_type": "code",
   "execution_count": 21,
   "id": "e5839462",
   "metadata": {},
   "outputs": [
    {
     "name": "stdout",
     "output_type": "stream",
     "text": [
      "The mean squared error (MSE) =  4193.62480791237\n",
      "The mean absolute error (MAS) =  50.74213633863697\n",
      "The mean squared log error (MSLE) =  0.4975627748920549\n"
     ]
    }
   ],
   "source": [
    "# Calculate the Error parameters\n",
    "\n",
    "print(\"The mean squared error (MSE) = \", mean_squared_error(py_true, py_pred))\n",
    "print(\"The mean absolute error (MAS) = \", mean_absolute_error(py_true, py_pred))\n",
    "print(\"The mean squared log error (MSLE) = \", mean_squared_log_error(py_true, py_pred))"
   ]
  },
  {
   "cell_type": "code",
   "execution_count": null,
   "id": "c3876d0a",
   "metadata": {},
   "outputs": [],
   "source": []
  }
 ],
 "metadata": {
  "kernelspec": {
   "display_name": "Python 3 (ipykernel)",
   "language": "python",
   "name": "python3"
  },
  "language_info": {
   "codemirror_mode": {
    "name": "ipython",
    "version": 3
   },
   "file_extension": ".py",
   "mimetype": "text/x-python",
   "name": "python",
   "nbconvert_exporter": "python",
   "pygments_lexer": "ipython3",
   "version": "3.9.7"
  }
 },
 "nbformat": 4,
 "nbformat_minor": 5
}
